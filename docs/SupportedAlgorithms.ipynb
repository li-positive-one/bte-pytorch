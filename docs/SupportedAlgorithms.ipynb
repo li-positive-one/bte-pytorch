{
 "cells": [
  {
   "cell_type": "markdown",
   "metadata": {},
   "source": [
    "# Supported Algorithms\n",
    "\n",
    "## DVM\n",
    "\n",
    "Support FVM\n",
    "\n",
    "- Space:\n",
    "    - 1sr order(consant)\n",
    "    - 2rd order(linear)\n",
    "    - 5th order(WENO)\n",
    "\n",
    "- Time:\n",
    "    - For BGK collision:\"bgk-RK1\",\"bgk-RK2\",\"bgk-RK3\",\"bgk-RKs1\",\"bgk-RKs2\", \"Euler\"\n",
    "    - For Binary collision: \"IMEX-1\", \"IMEX-2\", \"IMEX\"\n",
    "\n",
    "- Boundary condition:\n",
    "    - periodic\n",
    "    - cauchy\n",
    "    - constant\n",
    "    - maxwellian\n",
    "\n",
    "- Collision:\n",
    "    - BGK\n",
    "    - Binary (via FFT)\n",
    "\n",
    "## Grad Moment Equation\n",
    "\n",
    "- Space:\n",
    "    - 1sr order(consant)\n",
    "    - 2rd order(linear)\n",
    "\n",
    "- Time:\n",
    "    - Euler, Huen\n",
    "    - Strang splitting\n",
    "    - Riemann Solver: HLL, LF, LLF\n",
    "\n",
    "- Boundary condition:\n",
    "    - periodic\n",
    "    - cauchy\n",
    "    - constant\n",
    "    - maxwellian\n",
    "\n",
    "- Collision:\n",
    "    - BGK\n",
    "    - Binary"
   ]
  }
 ],
 "metadata": {
  "kernelspec": {
   "display_name": "Python 3.6.13 ('pytorch19')",
   "language": "python",
   "name": "python3"
  },
  "language_info": {
   "name": "python",
   "version": "3.6.13"
  },
  "orig_nbformat": 4,
  "vscode": {
   "interpreter": {
    "hash": "3c86ddfe13c89a4f668eaced9788d724b828d3b0d0e8cf4fa616a995c6c42422"
   }
  }
 },
 "nbformat": 4,
 "nbformat_minor": 2
}
