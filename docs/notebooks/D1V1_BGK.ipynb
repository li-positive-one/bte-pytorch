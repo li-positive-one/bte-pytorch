{
  "cells": [
    {
      "cell_type": "markdown",
      "metadata": {},
      "source": [
        "# D1V1 sodtube\n",
        "\n",
        "[![Open In Colab](https://colab.research.google.com/assets/colab-badge.svg)](https://colab.research.google.com/github/li-positive-one/bte-pytorch/blob/main/docs/notebooks/D1V1_BGK.ipynb)"
      ]
    },
    {
      "cell_type": "code",
      "execution_count": 11,
      "metadata": {
        "colab": {
          "base_uri": "https://localhost:8080/"
        },
        "id": "kRjdKw2RkxsF",
        "outputId": "db641fdd-a615-4c12-f01e-3891f8e4e4f6"
      },
      "outputs": [
        {
          "name": "stdout",
          "output_type": "stream",
          "text": [
            "Looking in indexes: https://pypi.org/simple, https://us-python.pkg.dev/colab-wheels/public/simple/\n",
            "Requirement already satisfied: bte-pytorch in /usr/local/lib/python3.7/dist-packages (0.0.1.3rc0)\n",
            "Requirement already satisfied: torch>=1.9.0 in /usr/local/lib/python3.7/dist-packages (from bte-pytorch) (1.12.1+cu113)\n",
            "Requirement already satisfied: numpy in /usr/local/lib/python3.7/dist-packages (from bte-pytorch) (1.21.6)\n",
            "Requirement already satisfied: scipy in /usr/local/lib/python3.7/dist-packages (from bte-pytorch) (1.7.3)\n",
            "Requirement already satisfied: typing-extensions in /usr/local/lib/python3.7/dist-packages (from torch>=1.9.0->bte-pytorch) (4.1.1)\n"
          ]
        }
      ],
      "source": [
        "!pip install bte-pytorch"
      ]
    },
    {
      "cell_type": "code",
      "execution_count": 24,
      "metadata": {
        "colab": {
          "base_uri": "https://localhost:8080/"
        },
        "id": "Wfc_8WDPkpFb",
        "outputId": "bce9c1dc-25c5-44c2-a60e-ba4cc7d04ba1"
      },
      "outputs": [
        {
          "name": "stdout",
          "output_type": "stream",
          "text": [
            "f0.shape: torch.Size([1, 200, 200])\n"
          ]
        }
      ],
      "source": [
        "import sys\n",
        "import os\n",
        "import torch\n",
        "import math\n",
        "from tqdm import tqdm\n",
        "from bte.dvm import solver as bgk_solver\n",
        "from matplotlib import pyplot as plt\n",
        "import torch\n",
        "torch.set_default_dtype(torch.float64)\n",
        "\n",
        "kn = 1\n",
        "rho_l, u_l, P_l = 1.0, 0., 1\n",
        "rho_r, u_r, P_r = 0.125, 0., 0.1\n",
        "T_l=P_l/rho_l\n",
        "T_r=P_r/rho_r\n",
        "\n",
        "nx=200\n",
        "vmax=10\n",
        "nv=200\n",
        "\n",
        "rho_l=rho_l*torch.ones(nx,1)\n",
        "u_l=u_l*torch.ones(nx,1)\n",
        "T_l=T_l*torch.ones(nx,1)\n",
        "rho_r=rho_r*torch.ones(nx,1)\n",
        "u_r=u_r*torch.ones(nx,1)\n",
        "T_r=T_r*torch.ones(nx,1)\n",
        "\n",
        "def maxwellian(v, rho, u, T):\n",
        "    return (rho / torch.sqrt(2 * math.pi * T)) * torch.exp(-((u[..., None, :] - v) ** 2).sum(dim=-1) / (2 * T))\n",
        "        \n",
        "f0_l = lambda v: maxwellian(v, rho_l, u_l, T_l)\n",
        "f0_r = lambda v: maxwellian(v, rho_r, u_r, T_r)\n",
        "\n",
        "solver = bgk_solver.BGKSolver(-0.5,0.5,nx,-vmax,vmax,nv,device='cuda')\n",
        "solver.set_space_order(2)\n",
        "solver.set_time_stepper(\"bgk-RK2\")\n",
        "x, v = solver.dis.x.cpu(), solver.dis.v.cpu()\n",
        "f0 = f0_l(v) * (x < 0)[:, None] + f0_r(v) * (x >= 0)[:, None]\n",
        "f0 = f0.unsqueeze(0).repeat(1, 1, 1).cuda()\n",
        "solver.cuda()\n",
        "print(\"f0.shape:\", f0.shape)\n",
        "solver.set_initial(kn, f0)\n",
        "solver.dis.dx=solver.dis.dx.cuda()"
      ]
    },
    {
      "cell_type": "code",
      "execution_count": 25,
      "metadata": {
        "colab": {
          "base_uri": "https://localhost:8080/",
          "height": 265
        },
        "id": "mBgkj7-YnJr1",
        "outputId": "c2a9d3d7-1f5e-46a7-ec95-a11df90f831d"
      },
      "outputs": [
        {
          "data": {
            "image/png": "[encoded data removed]",
            "text/plain": [
              "<Figure size 432x288 with 1 Axes>"
            ]
          },
          "metadata": {
            "needs_background": "light"
          },
          "output_type": "display_data"
        }
      ],
      "source": [
        "plt.plot(solver.dis.density().cpu()[0,:,0],label='rho')\n",
        "plt.plot(solver.dis.velocity().cpu()[0,:,0],label='ux')\n",
        "plt.plot(solver.dis.temperature().cpu()[0,:,0],label='T')\n",
        "plt.plot(solver.dis.heatflux().cpu()[0,:,0],label='q')\n",
        "plt.legend()\n",
        "plt.show()"
      ]
    },
    {
      "cell_type": "code",
      "execution_count": 26,
      "metadata": {
        "colab": {
          "base_uri": "https://localhost:8080/"
        },
        "id": "dtMmpcSxnFML",
        "outputId": "69d967ae-43bf-47b1-c7a2-9eaf5581af18"
      },
      "outputs": [
        {
          "name": "stdout",
          "output_type": "stream",
          "text": [
            "max_dt is 0.00022500000000000002\n"
          ]
        },
        {
          "name": "stderr",
          "output_type": "stream",
          "text": [
            "100%|██████████| 100/100 [00:02<00:00, 40.00it/s]\n"
          ]
        }
      ],
      "source": [
        "# solve\n",
        "t_final, dt = 0.1, 0.001\n",
        "CFL = 0.45\n",
        "max_dt = CFL * 1.0 / nx / vmax\n",
        "print(\"max_dt is\", max_dt)\n",
        "soln = []\n",
        "for t in tqdm(range(100)):\n",
        "    solver.solve_to(dt, max_dt)"
      ]
    },
    {
      "cell_type": "code",
      "execution_count": 27,
      "metadata": {
        "colab": {
          "base_uri": "https://localhost:8080/",
          "height": 265
        },
        "id": "vNg_g6ZxljBv",
        "outputId": "bd12bdbb-8d69-40a3-d942-30e6abc275e4"
      },
      "outputs": [
        {
          "data": {
            "image/png": "[encoded data removed]",
            "text/plain": [
              "<Figure size 432x288 with 1 Axes>"
            ]
          },
          "metadata": {
            "needs_background": "light"
          },
          "output_type": "display_data"
        }
      ],
      "source": [
        "plt.plot(solver.dis.density().cpu()[0,:,0],label='rho')\n",
        "plt.plot(solver.dis.velocity().cpu()[0,:,0],label='ux')\n",
        "plt.plot(solver.dis.temperature().cpu()[0,:,0],label='T')\n",
        "plt.plot(solver.dis.heatflux().cpu()[0,:,0],label='q')\n",
        "plt.legend()\n",
        "plt.show()"
      ]
    }
  ],
  "metadata": {
    "accelerator": "GPU",
    "colab": {
      "authorship_tag": "ABX9TyOi54SGs7cII/lmNu4IcR5J",
      "include_colab_link": true,
      "name": "D1V1-BGK.ipynb",
      "provenance": []
    },
    "gpuClass": "standard",
    "kernelspec": {
      "display_name": "Python 3.6.13 ('pytorch19')",
      "language": "python",
      "name": "python3"
    },
    "language_info": {
      "name": "python",
      "version": "3.6.13"
    },
    "vscode": {
      "interpreter": {
        "hash": "3c86ddfe13c89a4f668eaced9788d724b828d3b0d0e8cf4fa616a995c6c42422"
      }
    }
  },
  "nbformat": 4,
  "nbformat_minor": 0
}
